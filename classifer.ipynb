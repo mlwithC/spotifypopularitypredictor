{
 "cells": [
  {
   "cell_type": "code",
   "execution_count": 1,
   "id": "d8f926bd-3f5e-44a1-9ae4-334d2166e540",
   "metadata": {},
   "outputs": [
    {
     "name": "stdout",
     "output_type": "stream",
     "text": [
      "Dataset shape: (2017, 17)\n",
      "\n",
      "First 5 rows:\n",
      "   Unnamed: 0  acousticness  danceability  duration_ms  energy  \\\n",
      "0           0        0.0102         0.833       204600   0.434   \n",
      "1           1        0.1990         0.743       326933   0.359   \n",
      "2           2        0.0344         0.838       185707   0.412   \n",
      "3           3        0.6040         0.494       199413   0.338   \n",
      "4           4        0.1800         0.678       392893   0.561   \n",
      "\n",
      "   instrumentalness  key  liveness  loudness  mode  speechiness    tempo  \\\n",
      "0          0.021900    2    0.1650    -8.795     1       0.4310  150.062   \n",
      "1          0.006110    1    0.1370   -10.401     1       0.0794  160.083   \n",
      "2          0.000234    2    0.1590    -7.148     1       0.2890   75.044   \n",
      "3          0.510000    5    0.0922   -15.236     1       0.0261   86.468   \n",
      "4          0.512000    5    0.4390   -11.648     0       0.0694  174.004   \n",
      "\n",
      "   time_signature  valence  target      song_title            artist  \n",
      "0               4    0.286       1        Mask Off            Future  \n",
      "1               4    0.588       1         Redbone  Childish Gambino  \n",
      "2               4    0.173       1    Xanny Family            Future  \n",
      "3               4    0.230       1  Master Of None       Beach House  \n",
      "4               4    0.904       1  Parallel Lines       Junior Boys  \n",
      "\n",
      "Dataset info:\n",
      "<class 'pandas.core.frame.DataFrame'>\n",
      "RangeIndex: 2017 entries, 0 to 2016\n",
      "Data columns (total 17 columns):\n",
      " #   Column            Non-Null Count  Dtype  \n",
      "---  ------            --------------  -----  \n",
      " 0   Unnamed: 0        2017 non-null   int64  \n",
      " 1   acousticness      2017 non-null   float64\n",
      " 2   danceability      2017 non-null   float64\n",
      " 3   duration_ms       2017 non-null   int64  \n",
      " 4   energy            2017 non-null   float64\n",
      " 5   instrumentalness  2017 non-null   float64\n",
      " 6   key               2017 non-null   int64  \n",
      " 7   liveness          2017 non-null   float64\n",
      " 8   loudness          2017 non-null   float64\n",
      " 9   mode              2017 non-null   int64  \n",
      " 10  speechiness       2017 non-null   float64\n",
      " 11  tempo             2017 non-null   float64\n",
      " 12  time_signature    2017 non-null   int64  \n",
      " 13  valence           2017 non-null   float64\n",
      " 14  target            2017 non-null   int64  \n",
      " 15  song_title        2017 non-null   object \n",
      " 16  artist            2017 non-null   object \n",
      "dtypes: float64(9), int64(6), object(2)\n",
      "memory usage: 268.0+ KB\n",
      "None\n",
      "\n",
      "Missing values in each column:\n",
      "Unnamed: 0          0\n",
      "acousticness        0\n",
      "danceability        0\n",
      "duration_ms         0\n",
      "energy              0\n",
      "instrumentalness    0\n",
      "key                 0\n",
      "liveness            0\n",
      "loudness            0\n",
      "mode                0\n",
      "speechiness         0\n",
      "tempo               0\n",
      "time_signature      0\n",
      "valence             0\n",
      "target              0\n",
      "song_title          0\n",
      "artist              0\n",
      "dtype: int64\n"
     ]
    }
   ],
   "source": [
    "# Step 1: Import libraries and load the dataset\n",
    "\n",
    "import pandas as pd  # For handling data\n",
    "import numpy as np   # For numerical operations\n",
    "\n",
    "# Load the dataset\n",
    "df = pd.read_csv(\"spotifydataset.csv\")\n",
    "\n",
    "# Show the shape of the dataset (rows, columns)\n",
    "print(\"Dataset shape:\", df.shape)\n",
    "\n",
    "# Display the first 5 rows of the dataset\n",
    "print(\"\\nFirst 5 rows:\")\n",
    "print(df.head())\n",
    "\n",
    "# Show info about each column: data type and non-null values\n",
    "print(\"\\nDataset info:\")\n",
    "print(df.info())\n",
    "\n",
    "# Check if any column has missing values\n",
    "print(\"\\nMissing values in each column:\")\n",
    "print(df.isnull().sum())\n"
   ]
  },
  {
   "cell_type": "code",
   "execution_count": 17,
   "id": "516fc181-160a-4fd2-b040-8dd3c11fb2fd",
   "metadata": {},
   "outputs": [
    {
     "name": "stdout",
     "output_type": "stream",
     "text": [
      "Features shape (X): (2017, 13)\n",
      "Target shape (y): (2017,)\n",
      "\n",
      " Preview of features (X):\n",
      "   acousticness  danceability  duration_ms  energy  instrumentalness  key  \\\n",
      "0        0.0102         0.833       204600   0.434          0.021900    2   \n",
      "1        0.1990         0.743       326933   0.359          0.006110    1   \n",
      "2        0.0344         0.838       185707   0.412          0.000234    2   \n",
      "3        0.6040         0.494       199413   0.338          0.510000    5   \n",
      "4        0.1800         0.678       392893   0.561          0.512000    5   \n",
      "\n",
      "   liveness  loudness  mode  speechiness    tempo  time_signature  valence  \n",
      "0    0.1650    -8.795     1       0.4310  150.062               4    0.286  \n",
      "1    0.1370   -10.401     1       0.0794  160.083               4    0.588  \n",
      "2    0.1590    -7.148     1       0.2890   75.044               4    0.173  \n",
      "3    0.0922   -15.236     1       0.0261   86.468               4    0.230  \n",
      "4    0.4390   -11.648     0       0.0694  174.004               4    0.904  \n",
      "\n",
      " Preview of target (y):\n",
      "0    1\n",
      "1    1\n",
      "2    1\n",
      "3    1\n",
      "4    1\n",
      "Name: target, dtype: int64\n"
     ]
    }
   ],
   "source": [
    "# Step 2: Select Features and Target for the Classifier\n",
    "\n",
    "# Define the list of feature columns we'll use to predict the song's popularity\n",
    "features = [\n",
    "    'acousticness', 'danceability', 'duration_ms', 'energy',\n",
    "    'instrumentalness', 'key', 'liveness', 'loudness', 'mode',\n",
    "    'speechiness', 'tempo', 'time_signature', 'valence'\n",
    "]\n",
    "\n",
    "# Create the input feature matrix X from the DataFrame using the selected features\n",
    "X = df[features]\n",
    "\n",
    "# Define the target variable y using the existing 'target' column\n",
    "# This column should contain 0 (not popular) or 1 (popular)\n",
    "y = df['target']\n",
    "\n",
    "# Print the shapes of X and y to confirm\n",
    "print(\"Features shape (X):\", X.shape)\n",
    "print(\"Target shape (y):\", y.shape)\n",
    "\n",
    "# Print a preview of the input features\n",
    "print(\"\\n Preview of features (X):\")\n",
    "print(X.head())\n",
    "\n",
    "# Print a preview of the target values\n",
    "print(\"\\n Preview of target (y):\")\n",
    "print(y.head())\n"
   ]
  },
  {
   "cell_type": "code",
   "execution_count": 19,
   "id": "5a22f2c6-7e39-4c93-bd8e-5811eb9a35b6",
   "metadata": {},
   "outputs": [
    {
     "name": "stdout",
     "output_type": "stream",
     "text": [
      "Training features shape: (1613, 13)\n",
      "Testing features shape: (404, 13)\n",
      "Training target shape: (1613,)\n",
      "Testing target shape: (404,)\n"
     ]
    }
   ],
   "source": [
    "from sklearn.model_selection import train_test_split\n",
    "\n",
    "# Split data: 80% train, 20% test\n",
    "X_train, X_test, y_train, y_test = train_test_split(X, y, test_size=0.2, random_state=42)\n",
    "\n",
    "# Show the shapes of the splits\n",
    "print(\"Training features shape:\", X_train.shape)\n",
    "print(\"Testing features shape:\", X_test.shape)\n",
    "print(\"Training target shape:\", y_train.shape)\n",
    "print(\"Testing target shape:\", y_test.shape)\n"
   ]
  },
  {
   "cell_type": "code",
   "execution_count": 21,
   "id": "9303a8f1-fe79-4e1e-9f3e-d75b2d159da6",
   "metadata": {},
   "outputs": [
    {
     "name": "stdout",
     "output_type": "stream",
     "text": [
      "Accuracy on Test Set: 0.77\n",
      "\n",
      "Classification Report:\n",
      "              precision    recall  f1-score   support\n",
      "\n",
      "           0       0.78      0.76      0.77       206\n",
      "           1       0.76      0.77      0.77       198\n",
      "\n",
      "    accuracy                           0.77       404\n",
      "   macro avg       0.77      0.77      0.77       404\n",
      "weighted avg       0.77      0.77      0.77       404\n",
      "\n"
     ]
    }
   ],
   "source": [
    "from sklearn.ensemble import RandomForestClassifier\n",
    "from sklearn.metrics import accuracy_score, classification_report\n",
    "\n",
    "# Initialize the Random Forest model\n",
    "model = RandomForestClassifier(n_estimators=100, random_state=42)\n",
    "\n",
    "# Train the model\n",
    "model.fit(X_train, y_train)\n",
    "\n",
    "# Predict on the test set\n",
    "y_pred = model.predict(X_test)\n",
    "\n",
    "# Evaluate the model\n",
    "accuracy = accuracy_score(y_test, y_pred)\n",
    "report = classification_report(y_test, y_pred)\n",
    "\n",
    "print(f\"Accuracy on Test Set: {accuracy:.2f}\")\n",
    "print(\"\\nClassification Report:\")\n",
    "print(report)\n"
   ]
  },
  {
   "cell_type": "code",
   "execution_count": 23,
   "id": "6a2dec1c-f265-4d64-aa2e-fc94a2d4422a",
   "metadata": {},
   "outputs": [],
   "source": [
    "#Predict New Songs' Popularity"
   ]
  },
  {
   "cell_type": "code",
   "execution_count": 25,
   "id": "04b2eeb3-159b-4b4d-82f1-2d6c3342df1d",
   "metadata": {},
   "outputs": [],
   "source": [
    "# Predict Manually"
   ]
  },
  {
   "cell_type": "code",
   "execution_count": 35,
   "id": "3fca9a13-7275-4520-aa57-452f001181b6",
   "metadata": {},
   "outputs": [
    {
     "name": "stdout",
     "output_type": "stream",
     "text": [
      "The song is likely to be NOT popular.\n"
     ]
    },
    {
     "name": "stderr",
     "output_type": "stream",
     "text": [
      "C:\\Users\\Dell\\anaconda3\\Lib\\site-packages\\sklearn\\base.py:493: UserWarning: X does not have valid feature names, but RandomForestClassifier was fitted with feature names\n",
      "  warnings.warn(\n"
     ]
    }
   ],
   "source": [
    "import numpy as np\n",
    "\n",
    "# Example new song's features (dummy values)\n",
    "# Make sure the order of features matches X.columns\n",
    "new_song = np.array([[0.35, 0.75, 210000, 0.55, 0.0, 5, 0.1, -6.0, 1, 0.04, 120.0, 4, 0.6]])\n",
    "\n",
    "# Predict popularity\n",
    "prediction = model.predict(new_song)\n",
    "\n",
    "if prediction[0] == 1:\n",
    "    print(\"The song is likely to be POPULAR!\")\n",
    "else:\n",
    "    print(\"The song is likely to be NOT popular.\")\n"
   ]
  },
  {
   "cell_type": "code",
   "execution_count": 29,
   "id": "d8ca1553-9b50-4182-8bd4-43b931f4c5c0",
   "metadata": {},
   "outputs": [],
   "source": [
    "#Test on Real Songs from Your Dataset"
   ]
  },
  {
   "cell_type": "code",
   "execution_count": 33,
   "id": "bc2c4e94-0074-406f-9438-00043beaae82",
   "metadata": {},
   "outputs": [
    {
     "name": "stdout",
     "output_type": "stream",
     "text": [
      "'Subways - In Flagranti Extended Edit' by The Avalanches is likely to be POPULAR!\n"
     ]
    },
    {
     "name": "stderr",
     "output_type": "stream",
     "text": [
      "C:\\Users\\Dell\\anaconda3\\Lib\\site-packages\\sklearn\\base.py:493: UserWarning: X does not have valid feature names, but RandomForestClassifier was fitted with feature names\n",
      "  warnings.warn(\n"
     ]
    }
   ],
   "source": [
    "# Pick a song row (e.g., row 10)\n",
    "song_features = df[features].iloc[10].values.reshape(1, -1)\n",
    "\n",
    "# Predict\n",
    "prediction = model.predict(song_features)\n",
    "title = df.iloc[10]['song_title']\n",
    "artist = df.iloc[10]['artist']\n",
    "\n",
    "if prediction[0] == 1:\n",
    "    print(f\"'{title}' by {artist} is likely to be POPULAR!\")\n",
    "else:\n",
    "    print(f\"'{title}' by {artist} is likely to be NOT popular.\")\n"
   ]
  },
  {
   "cell_type": "code",
   "execution_count": null,
   "id": "90921d7b-9743-4a94-8bf5-5afa08981950",
   "metadata": {},
   "outputs": [],
   "source": []
  }
 ],
 "metadata": {
  "kernelspec": {
   "display_name": "vhc_env",
   "language": "python",
   "name": "vhc_env"
  },
  "language_info": {
   "codemirror_mode": {
    "name": "ipython",
    "version": 3
   },
   "file_extension": ".py",
   "mimetype": "text/x-python",
   "name": "python",
   "nbconvert_exporter": "python",
   "pygments_lexer": "ipython3",
   "version": "3.12.7"
  }
 },
 "nbformat": 4,
 "nbformat_minor": 5
}
