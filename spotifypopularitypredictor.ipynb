{
 "cells": [
  {
   "cell_type": "code",
   "execution_count": 1,
   "id": "7f947d9d-f696-4a5c-b022-576835f47654",
   "metadata": {},
   "outputs": [],
   "source": [
    "# ALL THE REQUIRED FILES CREATED"
   ]
  },
  {
   "cell_type": "code",
   "execution_count": null,
   "id": "536e6bbf-a296-4c85-9753-f609baa75bda",
   "metadata": {},
   "outputs": [],
   "source": []
  },
  {
   "cell_type": "code",
   "execution_count": null,
   "id": "25e33c8f-a7d1-46bb-b85b-7b9b15110c4a",
   "metadata": {},
   "outputs": [],
   "source": []
  }
 ],
 "metadata": {
  "kernelspec": {
   "display_name": "Python (tf_env)",
   "language": "python",
   "name": "tf_env"
  },
  "language_info": {
   "codemirror_mode": {
    "name": "ipython",
    "version": 3
   },
   "file_extension": ".py",
   "mimetype": "text/x-python",
   "name": "python",
   "nbconvert_exporter": "python",
   "pygments_lexer": "ipython3",
   "version": "3.10.18"
  }
 },
 "nbformat": 4,
 "nbformat_minor": 5
}
